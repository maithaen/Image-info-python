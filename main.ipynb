{
 "cells": [
  {
   "cell_type": "code",
   "execution_count": 1,
   "metadata": {},
   "outputs": [],
   "source": [
    "from selenium import webdriver\n",
    "from selenium.webdriver.chrome.options import Options\n",
    "import getpass\n",
    "import os\n",
    "from pathlib import Path"
   ]
  },
  {
   "cell_type": "code",
   "execution_count": 2,
   "metadata": {},
   "outputs": [],
   "source": [
    "def get_chrome_options():\n",
    "    \"\"\"\n",
    "    Configure and return Chrome options for WebDriver.\n",
    "\n",
    "    Returns:\n",
    "        Options: Configured Chrome options\n",
    "    \"\"\"\n",
    "    options = Options()\n",
    "    options.add_experimental_option(\"detach\", True)\n",
    "    options.add_argument(\"--disable-blink-features=AutomationControlled\")\n",
    "    options.add_experimental_option(\"useAutomationExtension\", False)\n",
    "    options.add_experimental_option(\"excludeSwitches\", [\"enable-automation\"])\n",
    "    options.add_argument(\"--disable-infobars\")\n",
    "    options.add_argument(\"--disable-save-password-bubble\")\n",
    "    return options\n",
    "\n",
    "\n",
    "def open_chrome_with_profile(profile_path):\n",
    "    \"\"\"\n",
    "    Open Chrome with a specific user profile.\n",
    "\n",
    "    Args:\n",
    "        profile_path (str): Path to the Chrome user profile\n",
    "\n",
    "    Returns:\n",
    "        webdriver.Chrome: Initialized Chrome WebDriver with specified profile\n",
    "    \"\"\"\n",
    "    chrome_options = get_chrome_options()\n",
    "    chrome_options.add_argument(f\"--user-data-dir={profile_path}\")\n",
    "    driver = webdriver.Chrome(options=chrome_options)\n",
    "    return driver\n",
    "\n",
    "\n",
    "def open_leonardo_ai_profile(profile_number):\n",
    "    \"\"\"\n",
    "    Open Leonardo AI with a specific Chrome profile and navigate to the image generation page.\n",
    "\n",
    "    Args:\n",
    "        profile_number (int): Profile number to use\n",
    "\n",
    "    Returns:\n",
    "        webdriver.Chrome: Initialized Chrome WebDriver with specified profile and navigated to Leonardo AI\n",
    "    \"\"\"\n",
    "    profile_path = os.path.join(\n",
    "        \"C:\\\\Users\", getpass.getuser(), \"AppData\", \"Local\", \"Google\", \"Chrome\", \"User Data\",\n",
    "        f\"Profile {profile_number}\"\n",
    "    )\n",
    "    driver = open_chrome_with_profile(profile_path)\n",
    "    driver.get(\"https://app.leonardo.ai/image-generation\")\n",
    "    return driver\n"
   ]
  },
  {
   "cell_type": "code",
   "execution_count": 3,
   "metadata": {},
   "outputs": [],
   "source": [
    "profile_number = 1\n",
    "driver = open_leonardo_ai_profile(profile_number)"
   ]
  },
  {
   "cell_type": "code",
   "execution_count": 4,
   "metadata": {},
   "outputs": [],
   "source": [
    "profile_number = 2\n",
    "driver = open_leonardo_ai_profile(profile_number)"
   ]
  },
  {
   "cell_type": "code",
   "execution_count": 5,
   "metadata": {},
   "outputs": [],
   "source": [
    "profile_number = 3\n",
    "driver = open_leonardo_ai_profile(profile_number)"
   ]
  },
  {
   "cell_type": "code",
   "execution_count": null,
   "metadata": {},
   "outputs": [],
   "source": []
  }
 ],
 "metadata": {
  "kernelspec": {
   "display_name": "Python 3 (ipykernel)",
   "language": "python",
   "name": "python3"
  },
  "language_info": {
   "codemirror_mode": {
    "name": "ipython",
    "version": 3
   },
   "file_extension": ".py",
   "mimetype": "text/x-python",
   "name": "python",
   "nbconvert_exporter": "python",
   "pygments_lexer": "ipython3",
   "version": "3.12.4"
  }
 },
 "nbformat": 4,
 "nbformat_minor": 4
}
